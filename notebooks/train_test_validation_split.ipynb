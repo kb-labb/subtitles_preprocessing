{
 "cells": [
  {
   "cell_type": "code",
   "execution_count": 5,
   "id": "16864830-fe1f-4d80-a03e-f8fe990f8f25",
   "metadata": {},
   "outputs": [],
   "source": [
    "import pandas as pd"
   ]
  },
  {
   "cell_type": "code",
   "execution_count": 8,
   "id": "0c966128-4131-48a0-ace1-5f7c96d49420",
   "metadata": {},
   "outputs": [
    {
     "data": {
      "text/plain": [
       "['andreas', 'augusti_16', 'huggingface_dataset', 'out', 'ragnar']"
      ]
     },
     "execution_count": 8,
     "metadata": {},
     "output_type": "execute_result"
    }
   ],
   "source": [
    "import os\n",
    "os.listdir('/output')"
   ]
  },
  {
   "cell_type": "code",
   "execution_count": 9,
   "id": "67b8a908-971b-4ab5-b01a-fb1586e9183a",
   "metadata": {},
   "outputs": [],
   "source": [
    "metadata = pd.read_csv('/output/ragnar/chunks/metadata.csv')"
   ]
  },
  {
   "cell_type": "code",
   "execution_count": 10,
   "id": "cb55077f-d992-45cb-8e92-d5f916b9bcef",
   "metadata": {},
   "outputs": [
    {
     "data": {
      "text/html": [
       "<div>\n",
       "<style scoped>\n",
       "    .dataframe tbody tr th:only-of-type {\n",
       "        vertical-align: middle;\n",
       "    }\n",
       "\n",
       "    .dataframe tbody tr th {\n",
       "        vertical-align: top;\n",
       "    }\n",
       "\n",
       "    .dataframe thead th {\n",
       "        text-align: right;\n",
       "    }\n",
       "</style>\n",
       "<table border=\"1\" class=\"dataframe\">\n",
       "  <thead>\n",
       "    <tr style=\"text-align: right;\">\n",
       "      <th></th>\n",
       "      <th>file_name</th>\n",
       "      <th>transcription</th>\n",
       "    </tr>\n",
       "  </thead>\n",
       "  <tbody>\n",
       "    <tr>\n",
       "      <th>0</th>\n",
       "      <td>1114415-001A_0.mp3</td>\n",
       "      <td>&lt;|0.00|&gt;/TÅGVISSLA/&lt;|2.00|&gt; &lt;|7.64|&gt;Kvist!&lt;|10...</td>\n",
       "    </tr>\n",
       "    <tr>\n",
       "      <th>1</th>\n",
       "      <td>1114415-001A_1.mp3</td>\n",
       "      <td>&lt;|0.00|&gt;Jag stannar, pojkar.&lt;|3.00|&gt; &lt;|15.00|&gt;...</td>\n",
       "    </tr>\n",
       "    <tr>\n",
       "      <th>2</th>\n",
       "      <td>1114415-001A_2.mp3</td>\n",
       "      <td>&lt;|0.00|&gt;Vad gör ni här, karl?\\nSkulle ni inte ...</td>\n",
       "    </tr>\n",
       "    <tr>\n",
       "      <th>3</th>\n",
       "      <td>1114415-001A_3.mp3</td>\n",
       "      <td>&lt;|0.00|&gt;Jag heter Kvist. Jag har slutat.\\nDe k...</td>\n",
       "    </tr>\n",
       "    <tr>\n",
       "      <th>4</th>\n",
       "      <td>1114415-001A_4.mp3</td>\n",
       "      <td>&lt;|0.00|&gt;Ni får dricka ur skopan.&lt;|3.00|&gt;</td>\n",
       "    </tr>\n",
       "    <tr>\n",
       "      <th>5</th>\n",
       "      <td>1114415-001A_5.mp3</td>\n",
       "      <td>&lt;|0.00|&gt;Vackra blommor frun har.&lt;|3.00|&gt; &lt;|5.4...</td>\n",
       "    </tr>\n",
       "    <tr>\n",
       "      <th>6</th>\n",
       "      <td>1114415-001A_6.mp3</td>\n",
       "      <td>&lt;|0.00|&gt;Det är varmt.&lt;|2.40|&gt; &lt;|2.76|&gt;Varför k...</td>\n",
       "    </tr>\n",
       "    <tr>\n",
       "      <th>7</th>\n",
       "      <td>1114415-001A_7.mp3</td>\n",
       "      <td>&lt;|0.00|&gt;Här finns ingenting.\\nInga vägar. Inge...</td>\n",
       "    </tr>\n",
       "    <tr>\n",
       "      <th>8</th>\n",
       "      <td>1114415-001A_8.mp3</td>\n",
       "      <td>&lt;|0.00|&gt;/ÅSKA/&lt;|3.52|&gt;</td>\n",
       "    </tr>\n",
       "    <tr>\n",
       "      <th>9</th>\n",
       "      <td>1114415-001A_9.mp3</td>\n",
       "      <td>&lt;|0.00|&gt;/HAN VISSLAR/&lt;|3.40|&gt;</td>\n",
       "    </tr>\n",
       "  </tbody>\n",
       "</table>\n",
       "</div>"
      ],
      "text/plain": [
       "            file_name                                      transcription\n",
       "0  1114415-001A_0.mp3  <|0.00|>/TÅGVISSLA/<|2.00|> <|7.64|>Kvist!<|10...\n",
       "1  1114415-001A_1.mp3  <|0.00|>Jag stannar, pojkar.<|3.00|> <|15.00|>...\n",
       "2  1114415-001A_2.mp3  <|0.00|>Vad gör ni här, karl?\\nSkulle ni inte ...\n",
       "3  1114415-001A_3.mp3  <|0.00|>Jag heter Kvist. Jag har slutat.\\nDe k...\n",
       "4  1114415-001A_4.mp3           <|0.00|>Ni får dricka ur skopan.<|3.00|>\n",
       "5  1114415-001A_5.mp3  <|0.00|>Vackra blommor frun har.<|3.00|> <|5.4...\n",
       "6  1114415-001A_6.mp3  <|0.00|>Det är varmt.<|2.40|> <|2.76|>Varför k...\n",
       "7  1114415-001A_7.mp3  <|0.00|>Här finns ingenting.\\nInga vägar. Inge...\n",
       "8  1114415-001A_8.mp3                             <|0.00|>/ÅSKA/<|3.52|>\n",
       "9  1114415-001A_9.mp3                      <|0.00|>/HAN VISSLAR/<|3.40|>"
      ]
     },
     "execution_count": 10,
     "metadata": {},
     "output_type": "execute_result"
    }
   ],
   "source": [
    "metadata.head(10)"
   ]
  },
  {
   "cell_type": "code",
   "execution_count": 11,
   "id": "6cc17c58-94ea-460b-8d22-5f519aee1c1e",
   "metadata": {},
   "outputs": [],
   "source": [
    "test_percentage = 0.01\n",
    "validation_percentage = 0.01"
   ]
  },
  {
   "cell_type": "code",
   "execution_count": 12,
   "id": "3988e29c-2a02-4baf-8627-cc35908cbc15",
   "metadata": {},
   "outputs": [],
   "source": [
    "metadata['programid'] = metadata['file_name'].apply(lambda x: x[:7])"
   ]
  },
  {
   "cell_type": "code",
   "execution_count": 20,
   "id": "4746fa73-39af-48b9-a4f6-79a2de2760d8",
   "metadata": {},
   "outputs": [
    {
     "name": "stderr",
     "output_type": "stream",
     "text": [
      "100%|██████████| 2300/2300 [01:15<00:00, 30.29it/s]\n"
     ]
    },
    {
     "data": {
      "text/plain": [
       "(703076, 14327, 14967)"
      ]
     },
     "execution_count": 20,
     "metadata": {},
     "output_type": "execute_result"
    }
   ],
   "source": [
    "import pandas as pd\n",
    "import numpy as np\n",
    "from tqdm import tqdm\n",
    "\n",
    "# Split the dataframe\n",
    "unique_programs = metadata['programid'].unique()\n",
    "np.random.shuffle(unique_programs)\n",
    "\n",
    "validation_programs = []\n",
    "test_programs = []\n",
    "train_programs = []\n",
    "\n",
    "current_rows = 0\n",
    "total_rows = len(metadata)\n",
    "\n",
    "for program in tqdm(unique_programs):\n",
    "    program_rows = len(metadata[metadata['programid'] == program])\n",
    "    if current_rows + program_rows < 0.02 * total_rows:\n",
    "        validation_programs.append(program)\n",
    "        current_rows += program_rows\n",
    "    elif current_rows + program_rows < 0.04 * total_rows:\n",
    "        test_programs.append(program)\n",
    "        current_rows += program_rows\n",
    "    else:\n",
    "        train_programs.append(program)\n",
    "\n",
    "validation_df = metadata[metadata['programid'].isin(validation_programs)]\n",
    "test_df = metadata[metadata['programid'].isin(test_programs)]\n",
    "train_df = metadata[metadata['programid'].isin(train_programs)]\n",
    "\n",
    "len(train_df), len(validation_df), len(test_df)\n"
   ]
  },
  {
   "cell_type": "code",
   "execution_count": 21,
   "id": "ae1f1737-b277-447d-a0da-7ef70d5823c2",
   "metadata": {},
   "outputs": [
    {
     "name": "stdout",
     "output_type": "stream",
     "text": [
      "2199\n",
      "56\n",
      "45\n"
     ]
    }
   ],
   "source": [
    "print(train_df.programid.nunique())\n",
    "print(validation_df.programid.nunique())\n",
    "print(test_df.programid.nunique())\n"
   ]
  },
  {
   "cell_type": "code",
   "execution_count": 26,
   "id": "d1a4cd5f-2252-4b9d-a4c7-f95b9fcd2cd8",
   "metadata": {},
   "outputs": [],
   "source": [
    "train_df.to_csv('/output/ragnar/chunks/train.csv', index = False)"
   ]
  },
  {
   "cell_type": "code",
   "execution_count": 27,
   "id": "78f65a94-20e8-4666-8ffc-86164c73e74e",
   "metadata": {},
   "outputs": [
    {
     "data": {
      "text/html": [
       "<div>\n",
       "<style scoped>\n",
       "    .dataframe tbody tr th:only-of-type {\n",
       "        vertical-align: middle;\n",
       "    }\n",
       "\n",
       "    .dataframe tbody tr th {\n",
       "        vertical-align: top;\n",
       "    }\n",
       "\n",
       "    .dataframe thead th {\n",
       "        text-align: right;\n",
       "    }\n",
       "</style>\n",
       "<table border=\"1\" class=\"dataframe\">\n",
       "  <thead>\n",
       "    <tr style=\"text-align: right;\">\n",
       "      <th></th>\n",
       "      <th>file_name</th>\n",
       "      <th>transcription</th>\n",
       "      <th>programid</th>\n",
       "    </tr>\n",
       "  </thead>\n",
       "  <tbody>\n",
       "    <tr>\n",
       "      <th>0</th>\n",
       "      <td>1114415-001A_0.mp3</td>\n",
       "      <td>&lt;|0.00|&gt;/TÅGVISSLA/&lt;|2.00|&gt; &lt;|7.64|&gt;Kvist!&lt;|10...</td>\n",
       "      <td>1114415</td>\n",
       "    </tr>\n",
       "    <tr>\n",
       "      <th>1</th>\n",
       "      <td>1114415-001A_1.mp3</td>\n",
       "      <td>&lt;|0.00|&gt;Jag stannar, pojkar.&lt;|3.00|&gt; &lt;|15.00|&gt;...</td>\n",
       "      <td>1114415</td>\n",
       "    </tr>\n",
       "    <tr>\n",
       "      <th>2</th>\n",
       "      <td>1114415-001A_2.mp3</td>\n",
       "      <td>&lt;|0.00|&gt;Vad gör ni här, karl?\\nSkulle ni inte ...</td>\n",
       "      <td>1114415</td>\n",
       "    </tr>\n",
       "    <tr>\n",
       "      <th>3</th>\n",
       "      <td>1114415-001A_3.mp3</td>\n",
       "      <td>&lt;|0.00|&gt;Jag heter Kvist. Jag har slutat.\\nDe k...</td>\n",
       "      <td>1114415</td>\n",
       "    </tr>\n",
       "    <tr>\n",
       "      <th>4</th>\n",
       "      <td>1114415-001A_4.mp3</td>\n",
       "      <td>&lt;|0.00|&gt;Ni får dricka ur skopan.&lt;|3.00|&gt;</td>\n",
       "      <td>1114415</td>\n",
       "    </tr>\n",
       "    <tr>\n",
       "      <th>5</th>\n",
       "      <td>1114415-001A_5.mp3</td>\n",
       "      <td>&lt;|0.00|&gt;Vackra blommor frun har.&lt;|3.00|&gt; &lt;|5.4...</td>\n",
       "      <td>1114415</td>\n",
       "    </tr>\n",
       "    <tr>\n",
       "      <th>6</th>\n",
       "      <td>1114415-001A_6.mp3</td>\n",
       "      <td>&lt;|0.00|&gt;Det är varmt.&lt;|2.40|&gt; &lt;|2.76|&gt;Varför k...</td>\n",
       "      <td>1114415</td>\n",
       "    </tr>\n",
       "    <tr>\n",
       "      <th>7</th>\n",
       "      <td>1114415-001A_7.mp3</td>\n",
       "      <td>&lt;|0.00|&gt;Här finns ingenting.\\nInga vägar. Inge...</td>\n",
       "      <td>1114415</td>\n",
       "    </tr>\n",
       "    <tr>\n",
       "      <th>8</th>\n",
       "      <td>1114415-001A_8.mp3</td>\n",
       "      <td>&lt;|0.00|&gt;/ÅSKA/&lt;|3.52|&gt;</td>\n",
       "      <td>1114415</td>\n",
       "    </tr>\n",
       "    <tr>\n",
       "      <th>9</th>\n",
       "      <td>1114415-001A_9.mp3</td>\n",
       "      <td>&lt;|0.00|&gt;/HAN VISSLAR/&lt;|3.40|&gt;</td>\n",
       "      <td>1114415</td>\n",
       "    </tr>\n",
       "  </tbody>\n",
       "</table>\n",
       "</div>"
      ],
      "text/plain": [
       "            file_name                                      transcription  \\\n",
       "0  1114415-001A_0.mp3  <|0.00|>/TÅGVISSLA/<|2.00|> <|7.64|>Kvist!<|10...   \n",
       "1  1114415-001A_1.mp3  <|0.00|>Jag stannar, pojkar.<|3.00|> <|15.00|>...   \n",
       "2  1114415-001A_2.mp3  <|0.00|>Vad gör ni här, karl?\\nSkulle ni inte ...   \n",
       "3  1114415-001A_3.mp3  <|0.00|>Jag heter Kvist. Jag har slutat.\\nDe k...   \n",
       "4  1114415-001A_4.mp3           <|0.00|>Ni får dricka ur skopan.<|3.00|>   \n",
       "5  1114415-001A_5.mp3  <|0.00|>Vackra blommor frun har.<|3.00|> <|5.4...   \n",
       "6  1114415-001A_6.mp3  <|0.00|>Det är varmt.<|2.40|> <|2.76|>Varför k...   \n",
       "7  1114415-001A_7.mp3  <|0.00|>Här finns ingenting.\\nInga vägar. Inge...   \n",
       "8  1114415-001A_8.mp3                             <|0.00|>/ÅSKA/<|3.52|>   \n",
       "9  1114415-001A_9.mp3                      <|0.00|>/HAN VISSLAR/<|3.40|>   \n",
       "\n",
       "  programid  \n",
       "0   1114415  \n",
       "1   1114415  \n",
       "2   1114415  \n",
       "3   1114415  \n",
       "4   1114415  \n",
       "5   1114415  \n",
       "6   1114415  \n",
       "7   1114415  \n",
       "8   1114415  \n",
       "9   1114415  "
      ]
     },
     "execution_count": 27,
     "metadata": {},
     "output_type": "execute_result"
    }
   ],
   "source": [
    "train_df.head(10)"
   ]
  },
  {
   "cell_type": "code",
   "execution_count": 29,
   "id": "ffa63079-31d5-4e11-bcbe-f2f56ce61bfd",
   "metadata": {},
   "outputs": [],
   "source": [
    "test_df.to_csv('/output/ragnar/chunks/test.csv', index = False)"
   ]
  },
  {
   "cell_type": "code",
   "execution_count": 30,
   "id": "95539ce7-dd4b-44af-bcbb-74fcee433f79",
   "metadata": {},
   "outputs": [],
   "source": [
    "validation_df.to_csv('/output/ragnar/chunks/validation.csv', index = False)"
   ]
  },
  {
   "cell_type": "code",
   "execution_count": null,
   "id": "6c572126-9681-40c0-9b0e-382037b8e420",
   "metadata": {},
   "outputs": [],
   "source": []
  }
 ],
 "metadata": {
  "kernelspec": {
   "display_name": "Python 3 (ipykernel)",
   "language": "python",
   "name": "python3"
  },
  "language_info": {
   "codemirror_mode": {
    "name": "ipython",
    "version": 3
   },
   "file_extension": ".py",
   "mimetype": "text/x-python",
   "name": "python",
   "nbconvert_exporter": "python",
   "pygments_lexer": "ipython3",
   "version": "3.11.4"
  }
 },
 "nbformat": 4,
 "nbformat_minor": 5
}
